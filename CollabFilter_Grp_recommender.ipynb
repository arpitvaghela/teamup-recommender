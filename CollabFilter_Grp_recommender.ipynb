{
  "nbformat": 4,
  "nbformat_minor": 0,
  "metadata": {
    "colab": {
      "name": "CollabFilter_Grp_recommender.ipynb",
      "provenance": [],
      "collapsed_sections": [],
      "authorship_tag": "ABX9TyOdHMJhwnX1Dg5RBB/48UDx",
      "include_colab_link": true
    },
    "kernelspec": {
      "name": "python3",
      "display_name": "Python 3"
    }
  },
  "cells": [
    {
      "cell_type": "markdown",
      "metadata": {
        "id": "view-in-github",
        "colab_type": "text"
      },
      "source": [
        "<a href=\"https://colab.research.google.com/github/arpitvaghela/teamup-recommender/blob/main/CollabFilter_Grp_recommender.ipynb\" target=\"_parent\"><img src=\"https://colab.research.google.com/assets/colab-badge.svg\" alt=\"Open In Colab\"/></a>"
      ]
    },
    {
      "cell_type": "code",
      "metadata": {
        "id": "89ZRtuaQaGXp"
      },
      "source": [
        "import numpy as np\n",
        "import pandas as pd\n",
        "import matplotlib.pyplot as plt \n",
        "from typing import Set,List,Tuple"
      ],
      "execution_count": null,
      "outputs": []
    },
    {
      "cell_type": "markdown",
      "metadata": {
        "id": "bDoBhMyC1K6P"
      },
      "source": [
        "# Collaborative Filtering \n"
      ]
    },
    {
      "cell_type": "code",
      "metadata": {
        "colab": {
          "base_uri": "https://localhost:8080/",
          "height": 143
        },
        "id": "tei65yfFweJj",
        "outputId": "c9503382-12a5-4f74-ef83-2c6d881efdf0"
      },
      "source": [
        "# data for Basic CF\n",
        "df = pd.DataFrame({\n",
        "    \"r1\":[1,0,0],\n",
        "    \"r2\":[1,1,0],\n",
        "    \"r3\":[1,1,1],\n",
        "    \"r4\":[0,1,1],\n",
        "},\n",
        "    index = [\"s1\",\"s2\",\"u\"]\n",
        ")\n",
        "df"
      ],
      "execution_count": null,
      "outputs": [
        {
          "output_type": "execute_result",
          "data": {
            "text/html": [
              "<div>\n",
              "<style scoped>\n",
              "    .dataframe tbody tr th:only-of-type {\n",
              "        vertical-align: middle;\n",
              "    }\n",
              "\n",
              "    .dataframe tbody tr th {\n",
              "        vertical-align: top;\n",
              "    }\n",
              "\n",
              "    .dataframe thead th {\n",
              "        text-align: right;\n",
              "    }\n",
              "</style>\n",
              "<table border=\"1\" class=\"dataframe\">\n",
              "  <thead>\n",
              "    <tr style=\"text-align: right;\">\n",
              "      <th></th>\n",
              "      <th>r1</th>\n",
              "      <th>r2</th>\n",
              "      <th>r3</th>\n",
              "      <th>r4</th>\n",
              "    </tr>\n",
              "  </thead>\n",
              "  <tbody>\n",
              "    <tr>\n",
              "      <th>s1</th>\n",
              "      <td>1</td>\n",
              "      <td>1</td>\n",
              "      <td>1</td>\n",
              "      <td>0</td>\n",
              "    </tr>\n",
              "    <tr>\n",
              "      <th>s2</th>\n",
              "      <td>0</td>\n",
              "      <td>1</td>\n",
              "      <td>1</td>\n",
              "      <td>1</td>\n",
              "    </tr>\n",
              "    <tr>\n",
              "      <th>u</th>\n",
              "      <td>0</td>\n",
              "      <td>0</td>\n",
              "      <td>1</td>\n",
              "      <td>1</td>\n",
              "    </tr>\n",
              "  </tbody>\n",
              "</table>\n",
              "</div>"
            ],
            "text/plain": [
              "    r1  r2  r3  r4\n",
              "s1   1   1   1   0\n",
              "s2   0   1   1   1\n",
              "u    0   0   1   1"
            ]
          },
          "metadata": {
            "tags": []
          },
          "execution_count": 13
        }
      ]
    },
    {
      "cell_type": "code",
      "metadata": {
        "colab": {
          "base_uri": "https://localhost:8080/"
        },
        "id": "q5YR88rh1YRJ",
        "outputId": "bed8447a-fb34-4dbe-b7db-f79138c5cc26"
      },
      "source": [
        "def get_recipient(u:str)-> Set[str]:\n",
        "    \"\"\"Get recipient of user u\n",
        "    \n",
        "    Args:\n",
        "        u : a sender user\n",
        "    \n",
        "    Returns:\n",
        "        Set of recipient user of user u\n",
        "    \"\"\"\n",
        "    try:\n",
        "        u_row = df.loc[u]\n",
        "        return set(u_row.loc[u_row == 1].index)\n",
        "    except KeyError:\n",
        "        return set()\n",
        "\n",
        "get_recipient(\"u\")"
      ],
      "execution_count": null,
      "outputs": [
        {
          "output_type": "execute_result",
          "data": {
            "text/plain": [
              "{'r3', 'r4'}"
            ]
          },
          "metadata": {
            "tags": []
          },
          "execution_count": 14
        }
      ]
    },
    {
      "cell_type": "code",
      "metadata": {
        "colab": {
          "base_uri": "https://localhost:8080/"
        },
        "id": "9ru0lyRhn8PO",
        "outputId": "07ff8224-45dd-4067-81d0-df22ff557fc0"
      },
      "source": [
        "\n",
        "def similar_recipient(r:str)-> Set[str]:\n",
        "    \"\"\"Get similar recipients of user r\n",
        "\n",
        "    Args: \n",
        "        r : a recipient user \n",
        "    \n",
        "    Returns: \n",
        "        Set of similar recipient\n",
        "\n",
        "    Note:\n",
        "        r ~r r' => w -> r & w -> r'\n",
        "    \"\"\"\n",
        "    try:\n",
        "        df_r = df.loc[df[r] == 1 ] # df where r is a recipient\n",
        "    except KeyError:\n",
        "        return set()\n",
        "    \n",
        "    list_of_similar_r = df_r.apply(lambda r: r.loc[r == 1 ].index,axis=1) # list of similar recipient in each row \n",
        "    \n",
        "    S = set() # create a set of recipients \n",
        "    \n",
        "    for l in list_of_similar_r:\n",
        "        S |= set(l)\n",
        "    \n",
        "    try:\n",
        "        S.remove(r)\n",
        "    except KeyError:\n",
        "        pass\n",
        "    \n",
        "    return S\n",
        "\n",
        "\n",
        "similar_recipient(\"u\")"
      ],
      "execution_count": null,
      "outputs": [
        {
          "output_type": "execute_result",
          "data": {
            "text/plain": [
              "set()"
            ]
          },
          "metadata": {
            "tags": []
          },
          "execution_count": 15
        }
      ]
    },
    {
      "cell_type": "code",
      "metadata": {
        "colab": {
          "base_uri": "https://localhost:8080/"
        },
        "id": "NHAOrdek0LJG",
        "outputId": "6ff43c25-76d4-4f31-b364-d4ac2916dbcd"
      },
      "source": [
        "def similar_sender(s:str) -> Set[str]:\n",
        "    \"\"\"Get similar sender of user s\n",
        "    \n",
        "    Args:\n",
        "        s : a sender user\n",
        "    \n",
        "    Returns :\n",
        "        Set of similar sender\n",
        "    \n",
        "    Note :\n",
        "        s ~s s' =>  s -> w & s' -> w\n",
        "    \"\"\"\n",
        "    R = get_recipient(s)    # recipients of s\n",
        "    df_s = df.loc[:,R]      # dataframe where s is a sender\n",
        "    df_s = df_s[(df_s == 1).any(axis=1)]\n",
        "    \n",
        "    S = set(df_s.index)     # set of similar senders\n",
        "    try:\n",
        "        S.remove(s)             # remove current user\n",
        "    except KeyError:\n",
        "        pass\n",
        "    \n",
        "    return S\n",
        "\n",
        "similar_sender(\"u\")"
      ],
      "execution_count": null,
      "outputs": [
        {
          "output_type": "execute_result",
          "data": {
            "text/plain": [
              "{'s1', 's2'}"
            ]
          },
          "metadata": {
            "tags": []
          },
          "execution_count": 16
        }
      ]
    },
    {
      "cell_type": "code",
      "metadata": {
        "colab": {
          "base_uri": "https://localhost:8080/"
        },
        "id": "oVoIvLvg27TA",
        "outputId": "45a296d2-2368-4445-ef97-03bb4132453a"
      },
      "source": [
        "def Basic_CF(u:str) -> List[Tuple[str,int]]:\n",
        "    \"\"\"Recommend similar recipient of the recipient of u\n",
        "    \n",
        "    Args:\n",
        "        u : user\n",
        "    \n",
        "    Returns:\n",
        "        Sorted list of (user,vote) Tuples of recommendation\n",
        "    \n",
        "    Note:\n",
        "        C = {<u,r> : (u -> r' & r' ~r r & u -/> r & r -/> u )}\n",
        "        votes(u,r) = |{r' : u -> r' & r' ~r r }|\n",
        "    \"\"\" \n",
        "\n",
        "    votes = {r:0 for r in df.columns} # initial votes are 0\n",
        "    \n",
        "    R1 = get_recipient(u) # set of recipients\n",
        "    for r1 in R1:\n",
        "        R = similar_recipient(r1) # set of similar recipients\n",
        "        for r in R:\n",
        "            if r not in R1 and u not in get_recipient(r):   # increment votes[r] if u -/> r and r -/> u \n",
        "                votes[r] += 1\n",
        "                \n",
        "    return sorted(list(votes.items()),key=lambda e:e[1],reverse=True) # return Soreted Tuple \n",
        "\n",
        "Basic_CF(\"u\")"
      ],
      "execution_count": null,
      "outputs": [
        {
          "output_type": "execute_result",
          "data": {
            "text/plain": [
              "[('r2', 2), ('r1', 1), ('r3', 0), ('r4', 0)]"
            ]
          },
          "metadata": {
            "tags": []
          },
          "execution_count": 17
        }
      ]
    },
    {
      "cell_type": "code",
      "metadata": {
        "id": "EL9FqkqSaai7",
        "colab": {
          "base_uri": "https://localhost:8080/",
          "height": 269
        },
        "outputId": "2fbb0c39-605a-4ac5-b596-a25160422e9e"
      },
      "source": [
        "\n",
        "# inverted CF recipient\n",
        "df = pd.DataFrame({\n",
        "    \"s1\":[0,0,0,0,0,0,0],\n",
        "    \"s2\":[0,0,0,0,0,0,0],\n",
        "    \"r1\":[1,0,0,0,0,0,0],\n",
        "    \"r2\":[1,1,0,0,0,0,0],\n",
        "    \"r3\":[0,0,1,0,0,0,0],\n",
        "    \"r4\":[0,0,0,1,0,0,0],\n",
        "    \"u\" :[1,1,0,0,0,0,0],\n",
        "},\n",
        "index = [\"s1\",\"s2\",\"r1\",\"r2\",\"r3\",\"r4\",\"u\"]\n",
        ")\n",
        "df"
      ],
      "execution_count": null,
      "outputs": [
        {
          "output_type": "execute_result",
          "data": {
            "text/html": [
              "<div>\n",
              "<style scoped>\n",
              "    .dataframe tbody tr th:only-of-type {\n",
              "        vertical-align: middle;\n",
              "    }\n",
              "\n",
              "    .dataframe tbody tr th {\n",
              "        vertical-align: top;\n",
              "    }\n",
              "\n",
              "    .dataframe thead th {\n",
              "        text-align: right;\n",
              "    }\n",
              "</style>\n",
              "<table border=\"1\" class=\"dataframe\">\n",
              "  <thead>\n",
              "    <tr style=\"text-align: right;\">\n",
              "      <th></th>\n",
              "      <th>s1</th>\n",
              "      <th>s2</th>\n",
              "      <th>r1</th>\n",
              "      <th>r2</th>\n",
              "      <th>r3</th>\n",
              "      <th>r4</th>\n",
              "      <th>u</th>\n",
              "    </tr>\n",
              "  </thead>\n",
              "  <tbody>\n",
              "    <tr>\n",
              "      <th>s1</th>\n",
              "      <td>0</td>\n",
              "      <td>0</td>\n",
              "      <td>1</td>\n",
              "      <td>1</td>\n",
              "      <td>0</td>\n",
              "      <td>0</td>\n",
              "      <td>1</td>\n",
              "    </tr>\n",
              "    <tr>\n",
              "      <th>s2</th>\n",
              "      <td>0</td>\n",
              "      <td>0</td>\n",
              "      <td>0</td>\n",
              "      <td>1</td>\n",
              "      <td>0</td>\n",
              "      <td>0</td>\n",
              "      <td>1</td>\n",
              "    </tr>\n",
              "    <tr>\n",
              "      <th>r1</th>\n",
              "      <td>0</td>\n",
              "      <td>0</td>\n",
              "      <td>0</td>\n",
              "      <td>0</td>\n",
              "      <td>1</td>\n",
              "      <td>0</td>\n",
              "      <td>0</td>\n",
              "    </tr>\n",
              "    <tr>\n",
              "      <th>r2</th>\n",
              "      <td>0</td>\n",
              "      <td>0</td>\n",
              "      <td>0</td>\n",
              "      <td>0</td>\n",
              "      <td>0</td>\n",
              "      <td>1</td>\n",
              "      <td>0</td>\n",
              "    </tr>\n",
              "    <tr>\n",
              "      <th>r3</th>\n",
              "      <td>0</td>\n",
              "      <td>0</td>\n",
              "      <td>0</td>\n",
              "      <td>0</td>\n",
              "      <td>0</td>\n",
              "      <td>0</td>\n",
              "      <td>0</td>\n",
              "    </tr>\n",
              "    <tr>\n",
              "      <th>r4</th>\n",
              "      <td>0</td>\n",
              "      <td>0</td>\n",
              "      <td>0</td>\n",
              "      <td>0</td>\n",
              "      <td>0</td>\n",
              "      <td>0</td>\n",
              "      <td>0</td>\n",
              "    </tr>\n",
              "    <tr>\n",
              "      <th>u</th>\n",
              "      <td>0</td>\n",
              "      <td>0</td>\n",
              "      <td>0</td>\n",
              "      <td>0</td>\n",
              "      <td>0</td>\n",
              "      <td>0</td>\n",
              "      <td>0</td>\n",
              "    </tr>\n",
              "  </tbody>\n",
              "</table>\n",
              "</div>"
            ],
            "text/plain": [
              "    s1  s2  r1  r2  r3  r4  u\n",
              "s1   0   0   1   1   0   0  1\n",
              "s2   0   0   0   1   0   0  1\n",
              "r1   0   0   0   0   1   0  0\n",
              "r2   0   0   0   0   0   1  0\n",
              "r3   0   0   0   0   0   0  0\n",
              "r4   0   0   0   0   0   0  0\n",
              "u    0   0   0   0   0   0  0"
            ]
          },
          "metadata": {
            "tags": []
          },
          "execution_count": 18
        }
      ]
    },
    {
      "cell_type": "code",
      "metadata": {
        "colab": {
          "base_uri": "https://localhost:8080/"
        },
        "id": "elmgYTNsBncy",
        "outputId": "3002c4a1-8096-49de-b219-62267c2fd834"
      },
      "source": [
        "def Inverted_CF_Recipient(u:str) -> List[Tuple[str,int]]:\n",
        "    \"\"\"Recommend recipient of similar recipient of u\n",
        "    Args:\n",
        "        u : user\n",
        "    Returns:\n",
        "        Sorted list of (user.votes) Tuple of recommendation\n",
        "    Note:\n",
        "        C = {<u,r> : (r' ~r u & r' -> r & u -/> r & r -/> u )}\n",
        "        votes(u,r) = |r' : { r' ~r u & r' -> r }|\n",
        "    \"\"\"\n",
        "    votes = {r:0 for r in df.columns} # initial votes are 0\n",
        "\n",
        "    U1 = get_recipient(u)\n",
        "\n",
        "    R1 = similar_recipient(u) \n",
        "    for r1 in R1:\n",
        "        R = get_recipient(r1)\n",
        "        for r in R:\n",
        "            if r not in U1 and u not in get_recipient(r):\n",
        "                votes[r] += 1\n",
        "\n",
        "    return sorted(list(votes.items()),key=lambda e:e[1],reverse=True) # return Soreted Tuple\n",
        "\n",
        "Inverted_CF_Recipient(\"u\")"
      ],
      "execution_count": null,
      "outputs": [
        {
          "output_type": "execute_result",
          "data": {
            "text/plain": [
              "[('r3', 1), ('r4', 1), ('s1', 0), ('s2', 0), ('r1', 0), ('r2', 0), ('u', 0)]"
            ]
          },
          "metadata": {
            "tags": []
          },
          "execution_count": 19
        }
      ]
    },
    {
      "cell_type": "code",
      "metadata": {
        "colab": {
          "base_uri": "https://localhost:8080/",
          "height": 269
        },
        "id": "Ge6EqPsGOnsA",
        "outputId": "8d717cec-6f70-4709-ae90-292283a543d6"
      },
      "source": [
        "# inverted CF sender\n",
        "df = pd.DataFrame({\n",
        "    \"u\" :[0,0,0,0,0,0,0],\n",
        "    \"s1\":[1,0,0,0,0,0,0],\n",
        "    \"s2\":[0,0,0,0,0,0,0],\n",
        "    \"s3\":[0,0,0,0,0,0,0],\n",
        "    \"r1\":[0,1,0,0,0,0,0],\n",
        "    \"r2\":[0,1,1,0,0,0,0],\n",
        "    \"r3\":[0,1,1,1,0,0,0]\n",
        "},index=[\"u\",\"s1\",\"s2\",\"s3\",\"r1\",\"r2\",\"r3\"])\n",
        "df"
      ],
      "execution_count": null,
      "outputs": [
        {
          "output_type": "execute_result",
          "data": {
            "text/html": [
              "<div>\n",
              "<style scoped>\n",
              "    .dataframe tbody tr th:only-of-type {\n",
              "        vertical-align: middle;\n",
              "    }\n",
              "\n",
              "    .dataframe tbody tr th {\n",
              "        vertical-align: top;\n",
              "    }\n",
              "\n",
              "    .dataframe thead th {\n",
              "        text-align: right;\n",
              "    }\n",
              "</style>\n",
              "<table border=\"1\" class=\"dataframe\">\n",
              "  <thead>\n",
              "    <tr style=\"text-align: right;\">\n",
              "      <th></th>\n",
              "      <th>u</th>\n",
              "      <th>s1</th>\n",
              "      <th>s2</th>\n",
              "      <th>s3</th>\n",
              "      <th>r1</th>\n",
              "      <th>r2</th>\n",
              "      <th>r3</th>\n",
              "    </tr>\n",
              "  </thead>\n",
              "  <tbody>\n",
              "    <tr>\n",
              "      <th>u</th>\n",
              "      <td>0</td>\n",
              "      <td>1</td>\n",
              "      <td>0</td>\n",
              "      <td>0</td>\n",
              "      <td>0</td>\n",
              "      <td>0</td>\n",
              "      <td>0</td>\n",
              "    </tr>\n",
              "    <tr>\n",
              "      <th>s1</th>\n",
              "      <td>0</td>\n",
              "      <td>0</td>\n",
              "      <td>0</td>\n",
              "      <td>0</td>\n",
              "      <td>1</td>\n",
              "      <td>1</td>\n",
              "      <td>1</td>\n",
              "    </tr>\n",
              "    <tr>\n",
              "      <th>s2</th>\n",
              "      <td>0</td>\n",
              "      <td>0</td>\n",
              "      <td>0</td>\n",
              "      <td>0</td>\n",
              "      <td>0</td>\n",
              "      <td>1</td>\n",
              "      <td>1</td>\n",
              "    </tr>\n",
              "    <tr>\n",
              "      <th>s3</th>\n",
              "      <td>0</td>\n",
              "      <td>0</td>\n",
              "      <td>0</td>\n",
              "      <td>0</td>\n",
              "      <td>0</td>\n",
              "      <td>0</td>\n",
              "      <td>1</td>\n",
              "    </tr>\n",
              "    <tr>\n",
              "      <th>r1</th>\n",
              "      <td>0</td>\n",
              "      <td>0</td>\n",
              "      <td>0</td>\n",
              "      <td>0</td>\n",
              "      <td>0</td>\n",
              "      <td>0</td>\n",
              "      <td>0</td>\n",
              "    </tr>\n",
              "    <tr>\n",
              "      <th>r2</th>\n",
              "      <td>0</td>\n",
              "      <td>0</td>\n",
              "      <td>0</td>\n",
              "      <td>0</td>\n",
              "      <td>0</td>\n",
              "      <td>0</td>\n",
              "      <td>0</td>\n",
              "    </tr>\n",
              "    <tr>\n",
              "      <th>r3</th>\n",
              "      <td>0</td>\n",
              "      <td>0</td>\n",
              "      <td>0</td>\n",
              "      <td>0</td>\n",
              "      <td>0</td>\n",
              "      <td>0</td>\n",
              "      <td>0</td>\n",
              "    </tr>\n",
              "  </tbody>\n",
              "</table>\n",
              "</div>"
            ],
            "text/plain": [
              "    u  s1  s2  s3  r1  r2  r3\n",
              "u   0   1   0   0   0   0   0\n",
              "s1  0   0   0   0   1   1   1\n",
              "s2  0   0   0   0   0   1   1\n",
              "s3  0   0   0   0   0   0   1\n",
              "r1  0   0   0   0   0   0   0\n",
              "r2  0   0   0   0   0   0   0\n",
              "r3  0   0   0   0   0   0   0"
            ]
          },
          "metadata": {
            "tags": []
          },
          "execution_count": 20
        }
      ]
    },
    {
      "cell_type": "code",
      "metadata": {
        "colab": {
          "base_uri": "https://localhost:8080/"
        },
        "id": "L_DMSC4nK9fc",
        "outputId": "59e4f375-7a8c-4191-af71-464398213320"
      },
      "source": [
        "def Inverted_CF_Sender(u:str)-> List[Tuple[str,int]]:\n",
        "    \"\"\"Recommend similar sender of recipient of u\n",
        "     Args:\n",
        "        u : User\n",
        "    Returns:\n",
        "        Sorted list of (user.votes) Tuple of recommendation\n",
        "    Note:\n",
        "        C = {<u,s> : (u -> s' & s' ~s s & u -/> s & s -/> u )}\n",
        "        votes(u,s) = |s' : { s' ~s s & u -> s' }|\n",
        "     \"\"\"\n",
        "\n",
        "    votes = {r:0 for r in df.columns} # initial votes are 0\n",
        "    S1 = get_recipient(u)\n",
        "    for s1 in S1:\n",
        "        S = similar_sender(s1)\n",
        "        for s in S:\n",
        "            if s not in S1 and u not in get_recipient(s):\n",
        "                 votes[s] += 1\n",
        "    return sorted(list(votes.items()),key=lambda e:e[1],reverse=True) # return Soreted Tuple\n",
        "\n",
        "Inverted_CF_Sender(\"u\")"
      ],
      "execution_count": null,
      "outputs": [
        {
          "output_type": "execute_result",
          "data": {
            "text/plain": [
              "[('s2', 1), ('s3', 1), ('u', 0), ('s1', 0), ('r1', 0), ('r2', 0), ('r3', 0)]"
            ]
          },
          "metadata": {
            "tags": []
          },
          "execution_count": 21
        }
      ]
    },
    {
      "cell_type": "code",
      "metadata": {
        "colab": {
          "base_uri": "https://localhost:8080/"
        },
        "id": "WZUhdNVKcoLs",
        "outputId": "a7354840-576c-47b6-a3fe-c99301faf1bd"
      },
      "source": [
        "def Best_Two_CF(u:str) -> List[Tuple[str,int]]:\n",
        "    \"\"\"Best Two CF = Basic CF + Inverted CF Recipient\n",
        "    Args:\n",
        "        u : User\n",
        "    Returns:\n",
        "        Sorted list of (user.votes) Tuple of recommendation\n",
        "    \n",
        "    \"\"\"\n",
        "    votes = {r:0 for r in df.columns} # initial votes are 0\n",
        "\n",
        "    # basic CF\n",
        "    R1 = get_recipient(u) # set of recipients\n",
        "    for r1 in R1:\n",
        "        R = similar_recipient(r1) # set of similar recipients\n",
        "        for r in R:\n",
        "            if r not in R1 and u not in get_recipient(r):   # increment votes[r] if u -/> r and r -/> u \n",
        "                votes[r] += 1\n",
        "                \n",
        "    # inverted cf recipient\n",
        "    S1 = get_recipient(u)\n",
        "    for s1 in S1:\n",
        "        S = similar_sender(s1)\n",
        "        for s in S:\n",
        "            if s not in S1 and u not in get_recipient(s):\n",
        "                 votes[s] += 1\n",
        "    \n",
        "    return sorted(list(votes.items()),key=lambda e:e[1],reverse=True) # return Soreted Tuple\n",
        "\n",
        "Best_Two_CF(\"u\")"
      ],
      "execution_count": null,
      "outputs": [
        {
          "output_type": "execute_result",
          "data": {
            "text/plain": [
              "[('s2', 1), ('s3', 1), ('u', 0), ('s1', 0), ('r1', 0), ('r2', 0), ('r3', 0)]"
            ]
          },
          "metadata": {
            "tags": []
          },
          "execution_count": 22
        }
      ]
    }
  ]
}